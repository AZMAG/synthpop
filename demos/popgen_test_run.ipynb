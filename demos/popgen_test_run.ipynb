{
 "metadata": {
  "name": "",
  "signature": "sha256:e69b29bd5679885424ab058cc09cc62c8d167c73d1aba51385fb7100394b15d0"
 },
 "nbformat": 3,
 "nbformat_minor": 0,
 "worksheets": [
  {
   "cells": [
    {
     "cell_type": "heading",
     "level": 3,
     "metadata": {},
     "source": [
      "PopGen Imports"
     ]
    },
    {
     "cell_type": "code",
     "collapsed": false,
     "input": [
      "import popgen.adjusting_sample_joint_distribution as adj\n",
      "import popgen.prepare_data as prep\n",
      "import popgen.pseudo_sparse_matrix as ps\n",
      "from popgen.frequencytable import FrequencyTable\n",
      "from popgen.ipu import ipu"
     ],
     "language": "python",
     "metadata": {},
     "outputs": [],
     "prompt_number": 2
    },
    {
     "cell_type": "heading",
     "level": 3,
     "metadata": {},
     "source": [
      "Data Location"
     ]
    },
    {
     "cell_type": "code",
     "collapsed": false,
     "input": [
      "data_dir = '/Users/ffoti/src/popgen/demos/input_data'\n",
      "hh_sample_file = 'hhld_pums_500.csv'\n",
      "per_sample_file = 'pop_pums_500.csv'\n",
      "hh_marginals_file = 'hhld_marginals_500.csv'\n",
      "per_marginals_file = 'pop_marginals_500.csv'\n",
      "geocorr_file = 'Puma_Tract_Crosswalk_500.csv'"
     ],
     "language": "python",
     "metadata": {},
     "outputs": [],
     "prompt_number": 6
    },
    {
     "cell_type": "heading",
     "level": 3,
     "metadata": {},
     "source": [
      "Configuration"
     ]
    },
    {
     "cell_type": "code",
     "collapsed": false,
     "input": [
      "# Parameters\n",
      "ipf_tolerance = 0.0001\n",
      "ipf_iterations = 25\n",
      "ipu_tolerance = 0.0000001\n",
      "ipu_iterations = 50\n",
      "synthetic_draw_tolerance = 0.9999\n",
      "synthetic_draw_iterations = 25\n",
      "rounding_procedure = \"arithmetic\""
     ],
     "language": "python",
     "metadata": {},
     "outputs": [],
     "prompt_number": 7
    },
    {
     "cell_type": "heading",
     "level": 3,
     "metadata": {},
     "source": [
      "Data Munging"
     ]
    },
    {
     "cell_type": "code",
     "collapsed": false,
     "input": [
      "(hh_sample, hh_marginals, per_sample, per_marginals, \n",
      " hh_var_list, per_vars, hhld_units, hh_dims, per_dims, \n",
      " hhid_var, pid_var) = prep.prepare_data(\n",
      "    data_dir, hh_sample_file, hh_marginals_file, per_sample_file, per_marginals_file)"
     ],
     "language": "python",
     "metadata": {},
     "outputs": [],
     "prompt_number": 27
    },
    {
     "cell_type": "code",
     "collapsed": false,
     "input": [
      "hh_marginals"
     ],
     "language": "python",
     "metadata": {},
     "outputs": [
      {
       "html": [
        "<div style=\"max-height:1000px;max-width:1500px;overflow:auto;\">\n",
        "<table border=\"1\" class=\"dataframe\">\n",
        "  <thead>\n",
        "    <tr style=\"text-align: right;\">\n",
        "      <th></th>\n",
        "      <th>state</th>\n",
        "      <th>county</th>\n",
        "      <th>tract</th>\n",
        "      <th>bg</th>\n",
        "      <th>inc1</th>\n",
        "      <th>inc2</th>\n",
        "      <th>inc3</th>\n",
        "      <th>inc4</th>\n",
        "      <th>inc5</th>\n",
        "      <th>wkr1</th>\n",
        "      <th>wkr2</th>\n",
        "      <th>wkr3</th>\n",
        "      <th>wkr4</th>\n",
        "      <th>veh1</th>\n",
        "      <th>veh2</th>\n",
        "      <th>veh3</th>\n",
        "      <th>veh4</th>\n",
        "      <th>veh5</th>\n",
        "      <th>child1</th>\n",
        "      <th>child2</th>\n",
        "      <th></th>\n",
        "    </tr>\n",
        "  </thead>\n",
        "  <tbody>\n",
        "    <tr>\n",
        "      <th>0</th>\n",
        "      <td> 35</td>\n",
        "      <td> 61</td>\n",
        "      <td> 971400</td>\n",
        "      <td> 0</td>\n",
        "      <td> 115</td>\n",
        "      <td> 261</td>\n",
        "      <td> 200</td>\n",
        "      <td> 245</td>\n",
        "      <td> 340</td>\n",
        "      <td> 311</td>\n",
        "      <td> 406</td>\n",
        "      <td> 404</td>\n",
        "      <td>  40</td>\n",
        "      <td> 52</td>\n",
        "      <td> 320</td>\n",
        "      <td> 530</td>\n",
        "      <td> 194</td>\n",
        "      <td>  65</td>\n",
        "      <td> 504</td>\n",
        "      <td>  657</td>\n",
        "      <td>...</td>\n",
        "    </tr>\n",
        "    <tr>\n",
        "      <th>1</th>\n",
        "      <td> 35</td>\n",
        "      <td> 61</td>\n",
        "      <td> 971300</td>\n",
        "      <td> 0</td>\n",
        "      <td> 194</td>\n",
        "      <td> 147</td>\n",
        "      <td>  94</td>\n",
        "      <td> 168</td>\n",
        "      <td> 174</td>\n",
        "      <td> 214</td>\n",
        "      <td> 240</td>\n",
        "      <td> 282</td>\n",
        "      <td>  41</td>\n",
        "      <td>  0</td>\n",
        "      <td> 309</td>\n",
        "      <td> 274</td>\n",
        "      <td> 101</td>\n",
        "      <td>  93</td>\n",
        "      <td> 254</td>\n",
        "      <td>  523</td>\n",
        "      <td>...</td>\n",
        "    </tr>\n",
        "    <tr>\n",
        "      <th>2</th>\n",
        "      <td> 35</td>\n",
        "      <td> 61</td>\n",
        "      <td> 971100</td>\n",
        "      <td> 0</td>\n",
        "      <td> 151</td>\n",
        "      <td> 176</td>\n",
        "      <td>  65</td>\n",
        "      <td> 151</td>\n",
        "      <td>  27</td>\n",
        "      <td> 208</td>\n",
        "      <td> 240</td>\n",
        "      <td> 109</td>\n",
        "      <td>  13</td>\n",
        "      <td>  0</td>\n",
        "      <td> 149</td>\n",
        "      <td> 242</td>\n",
        "      <td> 122</td>\n",
        "      <td>  57</td>\n",
        "      <td> 215</td>\n",
        "      <td>  355</td>\n",
        "      <td>...</td>\n",
        "    </tr>\n",
        "    <tr>\n",
        "      <th>3</th>\n",
        "      <td> 35</td>\n",
        "      <td> 61</td>\n",
        "      <td> 971000</td>\n",
        "      <td> 0</td>\n",
        "      <td> 512</td>\n",
        "      <td> 495</td>\n",
        "      <td> 349</td>\n",
        "      <td> 375</td>\n",
        "      <td> 265</td>\n",
        "      <td> 815</td>\n",
        "      <td> 706</td>\n",
        "      <td> 374</td>\n",
        "      <td> 101</td>\n",
        "      <td> 76</td>\n",
        "      <td> 643</td>\n",
        "      <td> 770</td>\n",
        "      <td> 374</td>\n",
        "      <td> 133</td>\n",
        "      <td> 558</td>\n",
        "      <td> 1438</td>\n",
        "      <td>...</td>\n",
        "    </tr>\n",
        "  </tbody>\n",
        "</table>\n",
        "<p>4 rows \u00d7 21 columns</p>\n",
        "</div>"
       ],
       "metadata": {},
       "output_type": "pyout",
       "prompt_number": 34,
       "text": [
        "   state  county   tract  bg  inc1  inc2  inc3  inc4  inc5  wkr1  wkr2  wkr3  \\\n",
        "0     35      61  971400   0   115   261   200   245   340   311   406   404   \n",
        "1     35      61  971300   0   194   147    94   168   174   214   240   282   \n",
        "2     35      61  971100   0   151   176    65   151    27   208   240   109   \n",
        "3     35      61  971000   0   512   495   349   375   265   815   706   374   \n",
        "\n",
        "   wkr4  veh1  veh2  veh3  veh4  veh5  child1  child2      \n",
        "0    40    52   320   530   194    65     504     657 ...  \n",
        "1    41     0   309   274   101    93     254     523 ...  \n",
        "2    13     0   149   242   122    57     215     355 ...  \n",
        "3   101    76   643   770   374   133     558    1438 ...  \n",
        "\n",
        "[4 rows x 21 columns]"
       ]
      }
     ],
     "prompt_number": 34
    },
    {
     "cell_type": "code",
     "collapsed": false,
     "input": [
      "hh_varcorrdict, per_varcorrdict = prep.variables(\n",
      "    hh_var_list, hh_dims, per_vars, per_dims)"
     ],
     "language": "python",
     "metadata": {},
     "outputs": [],
     "prompt_number": 9
    },
    {
     "cell_type": "code",
     "collapsed": false,
     "input": [
      "matrix = ps.populate_master_matrix(hh_dims, per_dims, hhld_units, hh_sample, per_sample)"
     ],
     "language": "python",
     "metadata": {},
     "outputs": [],
     "prompt_number": 10
    },
    {
     "cell_type": "code",
     "collapsed": false,
     "input": [
      "sparse_matrix = ps.pseudo_sparse_matrix(data_dir, hh_sample, hh_dims, per_sample)"
     ],
     "language": "python",
     "metadata": {},
     "outputs": [],
     "prompt_number": 11
    },
    {
     "cell_type": "code",
     "collapsed": false,
     "input": [
      "sparse_matrix1, index_matrix = ps.generate_index_matrix(sparse_matrix)"
     ],
     "language": "python",
     "metadata": {},
     "outputs": [],
     "prompt_number": 12
    },
    {
     "cell_type": "code",
     "collapsed": false,
     "input": [
      "hhld_0_jd = adj.hhld_0_joint_dist(hhid_var, hh_sample, hh_var_list)"
     ],
     "language": "python",
     "metadata": {},
     "outputs": [],
     "prompt_number": 13
    },
    {
     "cell_type": "code",
     "collapsed": false,
     "input": [
      "person_0_jd = adj.person_0_joint_dist(pid_var, per_sample, per_vars)"
     ],
     "language": "python",
     "metadata": {},
     "outputs": [],
     "prompt_number": 14
    },
    {
     "cell_type": "code",
     "collapsed": false,
     "input": [
      "person_jd = adj.create_joint_dist_person(500, pid_var, per_vars, per_sample)"
     ],
     "language": "python",
     "metadata": {},
     "outputs": [],
     "prompt_number": 15
    },
    {
     "cell_type": "code",
     "collapsed": false,
     "input": [
      "hhld_jd = adj.create_joint_dist_hhld(500, hhid_var, hh_var_list, hh_sample)"
     ],
     "language": "python",
     "metadata": {},
     "outputs": [],
     "prompt_number": 16
    },
    {
     "cell_type": "code",
     "collapsed": false,
     "input": [
      "person_frequencies = adj.adjust_person_frequencies(person_jd, person_0_jd, 35, 61, 971400, 0)"
     ],
     "language": "python",
     "metadata": {},
     "outputs": [],
     "prompt_number": 17
    },
    {
     "cell_type": "code",
     "collapsed": false,
     "input": [
      "hhld_frequencies = adj.adjust_hhld_frequencies(hhld_jd, hhld_0_jd, 35, 61, 971400, 0)"
     ],
     "language": "python",
     "metadata": {},
     "outputs": [],
     "prompt_number": 18
    },
    {
     "cell_type": "code",
     "collapsed": false,
     "input": [
      "hhld_joint_dist = adj.adjust_weights(\n",
      "    hh_varcorrdict, hhld_frequencies, hh_marginals, ipf_tolerance, \n",
      "    ipf_iterations, 35, 61, 971400, 0, 500)"
     ],
     "language": "python",
     "metadata": {},
     "outputs": [
      {
       "output_type": "stream",
       "stream": "stdout",
       "text": [
        "convergence achieved in 12 iterations\n"
       ]
      }
     ],
     "prompt_number": 19
    },
    {
     "cell_type": "code",
     "collapsed": false,
     "input": [
      "person_joint_dist = adj.adjust_weights(\n",
      "    per_varcorrdict, person_frequencies, per_marginals, ipf_tolerance, \n",
      "    ipf_iterations, 35, 61, 971400, 0, 500)"
     ],
     "language": "python",
     "metadata": {},
     "outputs": [
      {
       "output_type": "stream",
       "stream": "stdout",
       "text": [
        "convergence achieved in 8 iterations\n"
       ]
      }
     ],
     "prompt_number": 20
    },
    {
     "cell_type": "heading",
     "level": 3,
     "metadata": {},
     "source": [
      "IPU"
     ]
    },
    {
     "cell_type": "code",
     "collapsed": false,
     "input": [
      "household_cols = {}\n",
      "for col in matrix.columns[4:hh_dims.prod() + 4]:\n",
      "    household_cols[col - 3] = matrix[col][matrix[col] > 0]\n",
      "\n",
      "person_cols = {}\n",
      "for col in matrix.columns[hh_dims.prod() + 4:]:\n",
      "    person_cols[col - (hh_dims.prod() + 3)] = matrix[col][matrix[col] > 0]"
     ],
     "language": "python",
     "metadata": {},
     "outputs": [],
     "prompt_number": 21
    },
    {
     "cell_type": "code",
     "collapsed": false,
     "input": [
      "ft = FrequencyTable(\n",
      "    index=matrix.index, household_cols=household_cols, person_cols=person_cols)"
     ],
     "language": "python",
     "metadata": {},
     "outputs": [],
     "prompt_number": 22
    },
    {
     "cell_type": "code",
     "collapsed": false,
     "input": [
      "constraints = {}\n",
      "constraints['household'] = hhld_joint_dist.frequency.astype('int')\n",
      "constraints['household'].index = constraints['household'].index + 1\n",
      "constraints['person'] = person_joint_dist.frequency.astype('int')\n",
      "constraints['person'].index = constraints['person'].index + 1\n",
      "constraints['household'][constraints['household'] == 0] = 1"
     ],
     "language": "python",
     "metadata": {},
     "outputs": [],
     "prompt_number": 23
    },
    {
     "cell_type": "code",
     "collapsed": false,
     "input": [
      "ipu.household_weights(frequency_table=ft, constraints=constraints)"
     ],
     "language": "python",
     "metadata": {},
     "outputs": [
      {
       "metadata": {},
       "output_type": "pyout",
       "prompt_number": 24,
       "text": [
        "(0     0.286863\n",
        " 1     0.694036\n",
        " 2     2.993264\n",
        " 3     0.406845\n",
        " 4     0.172401\n",
        " 5     0.647281\n",
        " 6     0.211167\n",
        " 7     0.054963\n",
        " 8     0.592754\n",
        " 9     0.467080\n",
        " 10    0.355329\n",
        " 11    0.357059\n",
        " 12    0.386846\n",
        " 13    0.345002\n",
        " 14    0.619296\n",
        " ...\n",
        " 2390    0.722512\n",
        " 2391    0.823387\n",
        " 2392    0.133842\n",
        " 2393    0.536301\n",
        " 2394    0.429102\n",
        " 2395    2.993264\n",
        " 2396    0.453190\n",
        " 2397    0.038474\n",
        " 2398    0.056649\n",
        " 2399    0.077672\n",
        " 2400    0.643652\n",
        " 2401    0.199384\n",
        " 2402    0.277853\n",
        " 2403    0.357534\n",
        " 2404    0.337135\n",
        " Length: 2405, dtype: float64, nan, 1)"
       ]
      }
     ],
     "prompt_number": 24
    },
    {
     "cell_type": "code",
     "collapsed": false,
     "input": [],
     "language": "python",
     "metadata": {},
     "outputs": [],
     "prompt_number": 24
    },
    {
     "cell_type": "code",
     "collapsed": false,
     "input": [],
     "language": "python",
     "metadata": {},
     "outputs": []
    }
   ],
   "metadata": {}
  }
 ]
}