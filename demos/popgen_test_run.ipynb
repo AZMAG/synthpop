{
 "metadata": {
  "name": "",
  "signature": "sha256:cf14b44751802ddee225325c80f548f6782d8f9b3be615eb66805453d505a170"
 },
 "nbformat": 3,
 "nbformat_minor": 0,
 "worksheets": [
  {
   "cells": [
    {
     "cell_type": "code",
     "collapsed": false,
     "input": [
      "import pandas as pd\n",
      "import numpy as np\n",
      "import os\n",
      "import itertools\n",
      "from collections import OrderedDict\n",
      "from frequencytable import FrequencyTable\n",
      "import pseudo_sparse_matrix as ps\n",
      "import adjusting_sample_joint_distribution as adj\n",
      "import prepare_data as prep\n",
      "from scipy import sparse\n",
      "from ipu import ipu"
     ],
     "language": "python",
     "metadata": {},
     "outputs": [],
     "prompt_number": 1
    },
    {
     "cell_type": "code",
     "collapsed": false,
     "input": [
      "data_dir = '/Users/conorhenley/Documents/Synthicity/Albuquerque/POPGEN_E'\n",
      "hh_sample_file = 'hhld_pums_500.csv'\n",
      "per_sample_file = 'pop_pums_500.csv'\n",
      "hh_marginals_file = 'hhld_marginals_500.csv'\n",
      "per_marginals_file = 'pop_marginals_500.csv'\n",
      "geocorr_file = 'Puma_Tract_Crosswalk_500.csv'"
     ],
     "language": "python",
     "metadata": {},
     "outputs": [],
     "prompt_number": 2
    },
    {
     "cell_type": "code",
     "collapsed": false,
     "input": [
      "# Parameters\n",
      "ipf_tolerance = 0.0001\n",
      "ipf_iterations = 25\n",
      "ipu_tolerance = 0.0000001\n",
      "ipu_iterations = 50\n",
      "synthetic_draw_tolerance = 0.9999\n",
      "synthetic_draw_iterations = 25\n",
      "rounding_procedure = \"arithmetic\""
     ],
     "language": "python",
     "metadata": {},
     "outputs": [],
     "prompt_number": 3
    },
    {
     "cell_type": "code",
     "collapsed": false,
     "input": [
      "hh_sample, hh_marginals, per_sample, per_marginals, hh_var_list, per_vars, hhld_units, hh_dims, per_dims, hhid_var, pid_var = prep.prepare_data(data_dir, hh_sample_file, hh_marginals_file, per_sample_file, per_marginals_file)"
     ],
     "language": "python",
     "metadata": {},
     "outputs": [],
     "prompt_number": 5
    },
    {
     "cell_type": "code",
     "collapsed": false,
     "input": [
      "hh_varcorrdict, per_varcorrdict = prep.variables(hh_var_list, hh_dims, per_vars, per_dims)"
     ],
     "language": "python",
     "metadata": {},
     "outputs": [],
     "prompt_number": 6
    },
    {
     "cell_type": "code",
     "collapsed": false,
     "input": [
      "matrix = ps.populate_master_matrix(hh_dims, per_dims, hhld_units, hh_sample, per_sample)"
     ],
     "language": "python",
     "metadata": {},
     "outputs": [],
     "prompt_number": 7
    },
    {
     "cell_type": "code",
     "collapsed": false,
     "input": [
      "sparse_matrix = ps.pseudo_sparse_matrix(data_dir, hh_sample, hh_dims, per_sample)"
     ],
     "language": "python",
     "metadata": {},
     "outputs": [],
     "prompt_number": 8
    },
    {
     "cell_type": "code",
     "collapsed": false,
     "input": [
      "sparse_matrix1, index_matrix = ps.generate_index_matrix(sparse_matrix)"
     ],
     "language": "python",
     "metadata": {},
     "outputs": [],
     "prompt_number": 9
    },
    {
     "cell_type": "code",
     "collapsed": false,
     "input": [
      "hhld_0_jd = adj.hhld_0_joint_dist(hhid_var, hh_sample, hh_var_list)"
     ],
     "language": "python",
     "metadata": {},
     "outputs": [],
     "prompt_number": 10
    },
    {
     "cell_type": "code",
     "collapsed": false,
     "input": [
      "person_0_jd = adj.person_0_joint_dist(pid_var, per_sample, per_vars)"
     ],
     "language": "python",
     "metadata": {},
     "outputs": [],
     "prompt_number": 11
    },
    {
     "cell_type": "code",
     "collapsed": false,
     "input": [
      "person_jd = adj.create_joint_dist_person(500, pid_var, per_vars, per_sample)"
     ],
     "language": "python",
     "metadata": {},
     "outputs": [],
     "prompt_number": 12
    },
    {
     "cell_type": "code",
     "collapsed": false,
     "input": [
      "hhld_jd = adj.create_joint_dist_hhld(500, hhid_var, hh_var_list, hh_sample)"
     ],
     "language": "python",
     "metadata": {},
     "outputs": [],
     "prompt_number": 13
    },
    {
     "cell_type": "code",
     "collapsed": false,
     "input": [
      "person_frequencies = adj.adjust_person_frequencies(person_jd, person_0_jd, 35, 61, 971400, 0)"
     ],
     "language": "python",
     "metadata": {},
     "outputs": [],
     "prompt_number": 14
    },
    {
     "cell_type": "code",
     "collapsed": false,
     "input": [
      "hhld_frequencies = adj.adjust_hhld_frequencies(hhld_jd, hhld_0_jd, 35, 61, 971400, 0)"
     ],
     "language": "python",
     "metadata": {},
     "outputs": [],
     "prompt_number": 15
    },
    {
     "cell_type": "code",
     "collapsed": false,
     "input": [
      "hhld_joint_dist = adj.adjust_weights(hh_varcorrdict, hhld_frequencies, hh_marginals, ipf_tolerance, ipf_iterations, 35, 61, 971400, 0, 500)"
     ],
     "language": "python",
     "metadata": {},
     "outputs": [
      {
       "output_type": "stream",
       "stream": "stdout",
       "text": [
        "convergence achieved in 12 iterations\n"
       ]
      }
     ],
     "prompt_number": 16
    },
    {
     "cell_type": "code",
     "collapsed": false,
     "input": [
      "person_joint_dist = adj.adjust_weights(per_varcorrdict, person_frequencies, per_marginals, ipf_tolerance, ipf_iterations, 35, 61, 971400, 0, 500)"
     ],
     "language": "python",
     "metadata": {},
     "outputs": [
      {
       "output_type": "stream",
       "stream": "stdout",
       "text": [
        "convergence achieved in 8 iterations\n"
       ]
      }
     ],
     "prompt_number": 17
    },
    {
     "cell_type": "code",
     "collapsed": false,
     "input": [
      "household_cols = OrderedDict()\n",
      "for col in matrix.columns[4:hh_dims.prod()+4]:\n",
      "    household_cols[col-3] = matrix[col][matrix[col]>0]\n",
      "person_cols = OrderedDict()\n",
      "for col in matrix.columns[hh_dims.prod()+4:]:\n",
      "    person_cols[col-(hh_dims.prod()+3)] = matrix[col][matrix[col]>0]"
     ],
     "language": "python",
     "metadata": {},
     "outputs": [],
     "prompt_number": 18
    },
    {
     "cell_type": "code",
     "collapsed": false,
     "input": [
      "ft = FrequencyTable(index = matrix.index, household_cols=household_cols, person_cols=person_cols)"
     ],
     "language": "python",
     "metadata": {},
     "outputs": [],
     "prompt_number": 19
    },
    {
     "cell_type": "code",
     "collapsed": false,
     "input": [
      "constraints = OrderedDict()\n",
      "constraints['household'] = hhld_joint_dist.frequency.astype('int')\n",
      "constraints['household'].index = constraints['household'].index + 1\n",
      "constraints['person'] = person_joint_dist.frequency.astype('int')\n",
      "constraints['person'].index = constraints['person'].index + 1\n",
      "constraints['household'][constraints['household']==0] = 1"
     ],
     "language": "python",
     "metadata": {},
     "outputs": [],
     "prompt_number": 20
    },
    {
     "cell_type": "code",
     "collapsed": false,
     "input": [
      "ipu.household_weights(frequency_table=ft, constraints=constraints)"
     ],
     "language": "python",
     "metadata": {},
     "outputs": [
      {
       "metadata": {},
       "output_type": "pyout",
       "prompt_number": 21,
       "text": [
        "(0     0.286863\n",
        " 1     0.694036\n",
        " 2     2.993264\n",
        " 3     0.406845\n",
        " 4     0.172401\n",
        " 5     0.647281\n",
        " 6     0.211167\n",
        " 7     0.054963\n",
        " 8     0.592754\n",
        " 9     0.467080\n",
        " 10    0.355329\n",
        " 11    0.357059\n",
        " 12    0.386846\n",
        " 13    0.345002\n",
        " 14    0.619296\n",
        " ...\n",
        " 2390    0.722512\n",
        " 2391    0.823387\n",
        " 2392    0.133842\n",
        " 2393    0.536301\n",
        " 2394    0.429102\n",
        " 2395    2.993264\n",
        " 2396    0.453190\n",
        " 2397    0.038474\n",
        " 2398    0.056649\n",
        " 2399    0.077672\n",
        " 2400    0.643652\n",
        " 2401    0.199384\n",
        " 2402    0.277853\n",
        " 2403    0.357534\n",
        " 2404    0.337135\n",
        " Length: 2405, dtype: float64, nan, 1)"
       ]
      }
     ],
     "prompt_number": 21
    },
    {
     "cell_type": "code",
     "collapsed": false,
     "input": [],
     "language": "python",
     "metadata": {},
     "outputs": []
    }
   ],
   "metadata": {}
  }
 ]
}