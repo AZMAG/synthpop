{
 "metadata": {
  "name": "",
  "signature": "sha256:de940336e38f3edd9fae8000c40fa6ee561943d377b8340f482eb9d2b6acbf23"
 },
 "nbformat": 3,
 "nbformat_minor": 0,
 "worksheets": [
  {
   "cells": [
    {
     "cell_type": "code",
     "collapsed": false,
     "input": [
      "from popgen.recipes.starter import marginals_and_joint_distributions\n",
      "from popgen.census_helpers import Census\n",
      "from popgen.synthesizer import SynthPop\n",
      "import os\n",
      "import time"
     ],
     "language": "python",
     "metadata": {},
     "outputs": [],
     "prompt_number": 3
    },
    {
     "cell_type": "code",
     "collapsed": false,
     "input": [
      "c = Census(os.environ[\"CENSUS\"])\n",
      "sp = SynthPop(c)"
     ],
     "language": "python",
     "metadata": {},
     "outputs": [],
     "prompt_number": 4
    },
    {
     "cell_type": "code",
     "collapsed": false,
     "input": [
      "print time.ctime()\n",
      "sp.synthesize(*marginals_and_joint_distributions(c, \"CA\", \"Napa County\"))\n",
      "print time.ctime()"
     ],
     "language": "python",
     "metadata": {},
     "outputs": [
      {
       "output_type": "stream",
       "stream": "stdout",
       "text": [
        "Fri Aug 29 00:10:26 2014\n",
        "106"
       ]
      },
      {
       "output_type": "stream",
       "stream": "stdout",
       "text": [
        "\n",
        "106"
       ]
      },
      {
       "output_type": "stream",
       "stream": "stdout",
       "text": [
        "\n",
        "Fri Aug 29 00:10:41 2014\n"
       ]
      }
     ],
     "prompt_number": 5
    },
    {
     "cell_type": "code",
     "collapsed": false,
     "input": [],
     "language": "python",
     "metadata": {},
     "outputs": []
    }
   ],
   "metadata": {}
  }
 ]
}