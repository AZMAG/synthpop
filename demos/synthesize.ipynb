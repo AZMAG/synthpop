{
 "metadata": {
  "name": "",
  "signature": "sha256:d31a2603ca1874d7b060c63222196aefb55b4c3cf222531129f85e005d63e6fd"
 },
 "nbformat": 3,
 "nbformat_minor": 0,
 "worksheets": [
  {
   "cells": [
    {
     "cell_type": "code",
     "collapsed": false,
     "input": [
      "%load_ext autoreload\n",
      "%autoreload 2\n",
      "from popgen.recipes.starter import marginals_and_joint_distributions\n",
      "from popgen.census_helpers import Census\n",
      "from popgen.synthesizer import SynthPop\n",
      "import os"
     ],
     "language": "python",
     "metadata": {},
     "outputs": [],
     "prompt_number": 1
    },
    {
     "cell_type": "code",
     "collapsed": false,
     "input": [
      "c = Census(os.environ[\"CENSUS\"])\n",
      "sp = SynthPop(c)\n",
      "tup = marginals_and_joint_distributions(c, \"CA\", \"Napa County\")"
     ],
     "language": "python",
     "metadata": {},
     "outputs": [],
     "prompt_number": 2
    },
    {
     "cell_type": "code",
     "collapsed": false,
     "input": [
      "%time sp.synthesize_many(*tup)"
     ],
     "language": "python",
     "metadata": {},
     "outputs": [
      {
       "output_type": "stream",
       "stream": "stdout",
       "text": [
        "106\n",
        "200201\n",
        "05500\n",
        "count    7.430000e+02\n",
        "mean     4.646962e-01\n",
        "std      9.469606e-01\n",
        "min      4.955906e-29\n",
        "25%      3.809264e-02\n",
        "50%      1.715976e-01\n",
        "75%      4.319325e-01\n",
        "max      9.122501e+00\n",
        "dtype: float64"
       ]
      },
      {
       "output_type": "stream",
       "stream": "stdout",
       "text": [
        "\n",
        "0.296624026096\n",
        "45\n",
        "Sat Aug 30 00:10:02 2014\n",
        "200201\n",
        "05500\n",
        "count     7.430000e+02\n",
        "mean      4.486814e-01\n",
        "std       1.758300e+00\n",
        "min      7.625988e-119\n",
        "25%       6.701235e-04\n",
        "50%       1.052796e-02\n",
        "75%       1.972025e-01\n",
        "max       2.517922e+01\n",
        "dtype: float64"
       ]
      },
      {
       "output_type": "stream",
       "stream": "stdout",
       "text": [
        "\n",
        "0.35035109457\n",
        "104\n",
        "Sat Aug 30 00:10:10 2014\n",
        "200201\n",
        "05500\n",
        "count    743.000000\n",
        "mean       0.531810\n",
        "std        1.453521\n",
        "min        0.000000\n",
        "25%        0.011205\n",
        "50%        0.115785\n",
        "75%        0.366225\n",
        "max       16.872946\n",
        "dtype: float64"
       ]
      },
      {
       "output_type": "stream",
       "stream": "stdout",
       "text": [
        "\n",
        "0.292267935838\n",
        "68\n",
        "Sat Aug 30 00:10:15 2014\n",
        "200202\n",
        "05500\n",
        "count    743.000000\n",
        "mean       0.291866\n",
        "std        1.000477\n",
        "min        0.000000\n",
        "25%        0.000541\n",
        "50%        0.017744\n",
        "75%        0.189710\n",
        "max       11.753716\n",
        "dtype: float64"
       ]
      },
      {
       "output_type": "stream",
       "stream": "stdout",
       "text": [
        "\n",
        "0.390200454404\n",
        "81\n",
        "Sat Aug 30 00:10:23 2014\n",
        "200202\n",
        "05500\n",
        "count    7.430000e+02\n",
        "mean     4.914107e-01\n",
        "std      2.106900e+00\n",
        "min      1.548649e-24\n",
        "25%      8.015587e-10\n",
        "50%      6.215977e-08\n",
        "75%      1.513959e-04\n",
        "max      1.898490e+01\n",
        "dtype: float64"
       ]
      },
      {
       "output_type": "stream",
       "stream": "stdout",
       "text": [
        "\n",
        "1.10212985302\n",
        "15\n",
        "Sat Aug 30 00:10:24 2014\n",
        "200202\n",
        "05500\n",
        "count    743.000000\n",
        "mean       0.686428\n",
        "std        3.118085\n",
        "min        0.000000\n",
        "25%        0.000022\n",
        "50%        0.002803\n",
        "75%        0.093719\n",
        "max       42.409580\n",
        "dtype: float64"
       ]
      },
      {
       "output_type": "stream",
       "stream": "stdout",
       "text": [
        "\n",
        "0.320535694373\n",
        "88\n",
        "Sat Aug 30 00:10:31 2014\n",
        "200203\n",
        "05500\n",
        "count    7.430000e+02\n",
        "mean     5.515520e-01\n",
        "std      3.752599e+00\n",
        "min      3.961058e-76\n",
        "25%      1.690071e-07\n",
        "50%      1.719618e-04\n",
        "75%      1.427263e-02\n",
        "max      6.670961e+01\n",
        "dtype: float64"
       ]
      },
      {
       "output_type": "stream",
       "stream": "stdout",
       "text": [
        "\n",
        "0.298938703121\n",
        "79\n",
        "Sat Aug 30 00:10:38 2014\n",
        "200203\n",
        "05500\n",
        "count    7.430000e+02\n",
        "mean     5.741206e-01\n",
        "std      1.230341e+00\n",
        "min      2.174868e-78\n",
        "25%      7.331274e-02\n",
        "50%      2.257755e-01\n",
        "75%      5.339920e-01\n",
        "max      1.057432e+01\n",
        "dtype: float64"
       ]
      },
      {
       "output_type": "stream",
       "stream": "stdout",
       "text": [
        "\n",
        "0.247660104542\n",
        "111\n",
        "Sat Aug 30 00:10:49 2014\n",
        "200301\n",
        "05500\n",
        "count    7.430000e+02\n",
        "mean     7.055631e-01\n",
        "std      1.703552e+00\n",
        "min      1.272947e-18\n",
        "25%      8.887706e-02\n",
        "50%      2.661732e-01\n",
        "75%      5.060685e-01\n",
        "max      2.095223e+01\n",
        "dtype: float64"
       ]
      },
      {
       "output_type": "stream",
       "stream": "stdout",
       "text": [
        "\n",
        "0.286093474093\n",
        "44\n",
        "Sat Aug 30 00:10:53 2014\n",
        "200301\n",
        "05500\n",
        "count    7.430000e+02\n",
        "mean     5.428055e-01\n",
        "std      2.470858e+00\n",
        "min      1.090208e-30\n",
        "25%      4.576571e-08\n",
        "50%      5.864234e-04\n",
        "75%      2.351354e-02\n",
        "max      3.007157e+01\n",
        "dtype: float64"
       ]
      },
      {
       "output_type": "stream",
       "stream": "stdout",
       "text": [
        "\n",
        "0.276800186934\n",
        "110\n",
        "Sat Aug 30 00:11:05 2014\n",
        "200301\n",
        "05500\n",
        "count    7.430000e+02\n",
        "mean     7.715556e-01\n",
        "std      3.624029e+00\n",
        "min      3.090168e-09\n",
        "25%      1.094746e-02\n",
        "50%      5.928553e-02\n",
        "75%      2.034019e-01\n",
        "max      6.004065e+01\n",
        "dtype: float64"
       ]
      },
      {
       "output_type": "stream",
       "stream": "stdout",
       "text": [
        "\n",
        "0.254087858181\n",
        "45\n",
        "Sat Aug 30 00:11:09 2014\n",
        "200302\n",
        "05500\n",
        "count    7.430000e+02\n",
        "mean     4.800218e-01\n",
        "std      2.658835e+00\n",
        "min      4.227144e-17\n",
        "25%      3.383246e-06\n",
        "50%      8.010138e-05\n",
        "75%      2.597351e-02\n",
        "max      4.602867e+01\n",
        "dtype: float64"
       ]
      },
      {
       "output_type": "stream",
       "stream": "stdout",
       "text": [
        "\n",
        "0.453515839968\n",
        "25\n",
        "Sat Aug 30 00:11:11 2014\n",
        "200302\n",
        "05500\n",
        "count     7.430000e+02\n",
        "mean      7.590889e-01\n",
        "std       2.998503e+00\n",
        "min      3.458686e-181\n",
        "25%       2.007520e-08\n",
        "50%       2.088062e-04\n",
        "75%       3.096836e-02\n",
        "max       2.718826e+01\n",
        "dtype: float64"
       ]
      },
      {
       "output_type": "stream",
       "stream": "stdout",
       "text": [
        "\n",
        "0.339415518926\n",
        "59\n",
        "Sat Aug 30 00:11:16 2014\n",
        "200400\n",
        "05500\n",
        "count     7.430000e+02\n",
        "mean      5.224282e-01\n",
        "std       2.256258e+00\n",
        "min      9.032029e-246\n",
        "25%       2.227212e-43\n",
        "50%       2.661399e-17\n",
        "75%       2.156759e-03\n",
        "max       3.424255e+01\n",
        "dtype: float64"
       ]
      },
      {
       "output_type": "stream",
       "stream": "stdout",
       "text": [
        "\n",
        "0.968373778397\n",
        "90\n",
        "Sat Aug 30 00:11:23 2014\n",
        "200400\n",
        "05500\n",
        "count     7.430000e+02\n",
        "mean      6.132243e-01\n",
        "std       1.496728e+00\n",
        "min      2.547738e-230\n",
        "25%       7.778010e-04\n",
        "50%       1.496425e-01\n",
        "75%       5.753269e-01\n",
        "max       1.766401e+01\n",
        "dtype: float64"
       ]
      },
      {
       "output_type": "stream",
       "stream": "stdout",
       "text": [
        "\n",
        "0.345272601569\n",
        "65\n",
        "Sat Aug 30 00:11:28 2014\n",
        "200400\n",
        "05500\n",
        "count    7.430000e+02\n",
        "mean     4.672175e-01\n",
        "std      1.834207e+00\n",
        "min      1.232251e-23\n",
        "25%      3.712260e-03\n",
        "50%      3.729522e-02\n",
        "75%      2.719317e-01\n",
        "max      2.101823e+01\n",
        "dtype: float64"
       ]
      },
      {
       "output_type": "stream",
       "stream": "stdout",
       "text": [
        "\n",
        "0.27158812176\n",
        "75\n",
        "Sat Aug 30 00:11:34 2014\n",
        "200501\n",
        "05500\n",
        "count     7.430000e+02\n",
        "mean      6.566499e-01\n",
        "std       3.415943e+00\n",
        "min      1.918751e-231\n",
        "25%       3.503684e-13\n",
        "50%       3.132153e-08\n",
        "75%       3.683760e-02\n",
        "max       4.840575e+01\n",
        "dtype: float64"
       ]
      },
      {
       "output_type": "stream",
       "stream": "stdout",
       "text": [
        "\n",
        "0.41675400534\n",
        "58\n",
        "Sat Aug 30 00:11:39 2014\n",
        "200501\n",
        "05500\n",
        "count    7.430000e+02\n",
        "mean     5.724505e-01\n",
        "std      1.780876e+00\n",
        "min      6.875264e-84\n",
        "25%      1.178516e-02\n",
        "50%      8.036313e-02\n",
        "75%      3.242483e-01\n",
        "max      2.513348e+01\n",
        "dtype: float64"
       ]
      },
      {
       "output_type": "stream",
       "stream": "stdout",
       "text": [
        "\n",
        "0.271477608465\n",
        "44\n",
        "Sat Aug 30 00:11:42 2014\n",
        "200501\n",
        "05500\n",
        "count     7.430000e+02\n",
        "mean      1.133728e+00\n",
        "std       4.132053e+00\n",
        "min      5.013745e-182\n",
        "25%       1.658944e-03\n",
        "50%       1.530367e-01\n",
        "75%       4.691079e-01\n",
        "max       5.613293e+01\n",
        "dtype: float64"
       ]
      },
      {
       "output_type": "stream",
       "stream": "stdout",
       "text": [
        "\n",
        "0.293603413274\n",
        "42\n",
        "Sat Aug 30 00:11:45 2014\n",
        "200503\n",
        "05500\n",
        "count    7.430000e+02\n",
        "mean     6.689317e-01\n",
        "std      2.198945e+00\n",
        "min      6.582543e-30\n",
        "25%      1.227674e-02\n",
        "50%      1.693630e-01\n",
        "75%      3.574247e-01\n",
        "max      2.432324e+01\n",
        "dtype: float64"
       ]
      },
      {
       "output_type": "stream",
       "stream": "stdout",
       "text": [
        "\n",
        "0.297786708599\n",
        "33\n",
        "Sat Aug 30 00:11:47 2014\n",
        "200503\n",
        "05500\n",
        "count    7.430000e+02\n",
        "mean     1.780246e-01\n",
        "std      7.896230e-01\n",
        "min      2.885568e-28\n",
        "25%      1.393878e-04\n",
        "50%      3.796581e-03\n",
        "75%      5.940842e-02\n",
        "max      1.089739e+01\n",
        "dtype: float64"
       ]
      },
      {
       "output_type": "stream",
       "stream": "stdout",
       "text": [
        "\n",
        "0.337519377905\n",
        "11\n",
        "Sat Aug 30 00:11:48 2014\n",
        "200504\n",
        "05500\n",
        "count     7.430000e+02\n",
        "mean      7.963660e-01\n",
        "std       4.322835e+00\n",
        "min      3.095169e-209\n",
        "25%       1.158393e-11\n",
        "50%       1.092009e-06\n",
        "75%       9.317772e-05\n",
        "max       7.114688e+01\n",
        "dtype: float64"
       ]
      },
      {
       "output_type": "stream",
       "stream": "stdout",
       "text": [
        "\n",
        "0.511077325161\n",
        "51\n",
        "Sat Aug 30 00:11:52 2014\n",
        "200504\n",
        "05500\n",
        "count    7.430000e+02\n",
        "mean     1.470104e+00\n",
        "std      6.667365e+00\n",
        "min      2.179175e-21\n",
        "25%      1.718526e-04\n",
        "50%      1.414318e-02\n",
        "75%      2.914109e-01\n",
        "max      1.191549e+02\n",
        "dtype: float64"
       ]
      },
      {
       "output_type": "stream",
       "stream": "stdout",
       "text": [
        "\n",
        "0.42343063742\n",
        "30\n",
        "Sat Aug 30 00:11:54 2014\n",
        "200504\n",
        "05500\n",
        "count    7.430000e+02\n",
        "mean     8.024340e-01\n",
        "std      2.696563e+00\n",
        "min      2.855414e-09\n",
        "25%      5.696142e-02\n",
        "50%      1.737229e-01\n",
        "75%      5.110818e-01\n",
        "max      3.351840e+01\n",
        "dtype: float64"
       ]
      },
      {
       "output_type": "stream",
       "stream": "stdout",
       "text": [
        "\n",
        "0.240302121621\n",
        "19\n",
        "Sat Aug 30 00:11:56 2014\n",
        "200505\n",
        "05500\n",
        "count    7.430000e+02\n",
        "mean     5.935131e-01\n",
        "std      2.336903e+00\n",
        "min      5.231601e-28\n",
        "25%      9.857690e-04\n",
        "50%      2.254730e-02\n",
        "75%      1.129709e-01\n",
        "max      2.471108e+01\n",
        "dtype: float64"
       ]
      },
      {
       "output_type": "stream",
       "stream": "stdout",
       "text": [
        "\n",
        "0.314028732274\n",
        "47\n",
        "Sat Aug 30 00:12:00 2014\n",
        "200505\n",
        "05500\n",
        "count    743.000000\n",
        "mean       0.548233\n",
        "std        2.228757\n",
        "min        0.000000\n",
        "25%        0.000000\n",
        "50%        0.000823\n",
        "75%        0.183212\n",
        "max       22.095926\n",
        "dtype: float64"
       ]
      },
      {
       "output_type": "stream",
       "stream": "stdout",
       "text": [
        "\n",
        "0.322433065069\n",
        "109\n",
        "Sat Aug 30 00:12:09 2014\n",
        "200601\n",
        "05500\n",
        "count    7.430000e+02\n",
        "mean     5.554126e-01\n",
        "std      2.145063e+00\n",
        "min      7.727540e-16\n",
        "25%      2.186065e-04\n",
        "50%      8.012535e-03\n",
        "75%      2.355853e-01\n",
        "max      2.515480e+01\n",
        "dtype: float64"
       ]
      },
      {
       "output_type": "stream",
       "stream": "stdout",
       "text": [
        "\n",
        "0.282166887074\n",
        "45\n",
        "Sat Aug 30 00:12:13 2014\n",
        "200601\n",
        "05500\n",
        "count     7.430000e+02\n",
        "mean      5.238949e-01\n",
        "std       3.093851e+00\n",
        "min      6.807527e-147\n",
        "25%       9.011201e-15\n",
        "50%       3.908783e-09\n",
        "75%       1.495178e-01\n",
        "max       5.101832e+01\n",
        "dtype: float64"
       ]
      },
      {
       "output_type": "stream",
       "stream": "stdout",
       "text": [
        "\n",
        "0.457232682651\n",
        "43\n",
        "Sat Aug 30 00:12:17 2014\n",
        "200601\n",
        "05500\n",
        "count    7.430000e+02\n",
        "mean     5.408530e-01\n",
        "std      4.121742e+00\n",
        "min      1.877725e-17\n",
        "25%      6.844955e-06\n",
        "50%      3.924534e-04\n",
        "75%      1.511798e-02\n",
        "max      7.713972e+01\n",
        "dtype: float64"
       ]
      },
      {
       "output_type": "stream",
       "stream": "stdout",
       "text": [
        "\n",
        "0.341120256622\n",
        "42\n",
        "Sat Aug 30 00:12:21 2014\n",
        "200601\n",
        "05500\n",
        "count     7.430000e+02\n",
        "mean      3.152585e-01\n",
        "std       1.768151e+00\n",
        "min      4.495217e-318\n",
        "25%       6.896611e-08\n",
        "50%       2.146107e-04\n",
        "75%       9.619303e-02\n",
        "max       3.029248e+01\n",
        "dtype: float64"
       ]
      },
      {
       "output_type": "stream",
       "stream": "stdout",
       "text": [
        "\n",
        "0.342454134081\n",
        "86\n",
        "Sat Aug 30 00:12:27 2014\n",
        "200602\n",
        "05500\n",
        "count    7.430000e+02\n",
        "mean     1.230629e+00\n",
        "std      3.543221e+00\n",
        "min      6.883472e-41\n",
        "25%      4.299100e-02\n",
        "50%      3.600983e-01\n",
        "75%      9.014716e-01\n",
        "max      3.714920e+01\n",
        "dtype: float64"
       ]
      },
      {
       "output_type": "stream",
       "stream": "stdout",
       "text": [
        "\n",
        "0.298192310776\n",
        "65\n",
        "Sat Aug 30 00:12:32 2014\n",
        "200602\n",
        "05500\n",
        "count     7.430000e+02\n",
        "mean      4.757080e-01\n",
        "std       1.768939e+00\n",
        "min      6.379991e-142\n",
        "25%       2.822602e-11\n",
        "50%       1.692839e-07\n",
        "75%       1.431095e-01\n",
        "max       1.450157e+01\n",
        "dtype: float64"
       ]
      },
      {
       "output_type": "stream",
       "stream": "stdout",
       "text": [
        "\n",
        "0.486725427265\n",
        "46\n",
        "Sat Aug 30 00:12:35 2014\n",
        "200602\n",
        "05500\n",
        "count     7.430000e+02\n",
        "mean      4.151193e-01\n",
        "std       2.002710e+00\n",
        "min      6.128703e-280\n",
        "25%       2.271649e-08\n",
        "50%       1.312635e-04\n",
        "75%       3.652394e-02\n",
        "max       3.538416e+01\n",
        "dtype: float64"
       ]
      },
      {
       "output_type": "stream",
       "stream": "stdout",
       "text": [
        "\n",
        "0.414664113837\n",
        "83\n",
        "Sat Aug 30 00:12:41 2014\n",
        "200703\n",
        "05500\n",
        "count    7.430000e+02\n",
        "mean     8.778611e-01\n",
        "std      3.037409e+00\n",
        "min      1.337943e-36\n",
        "25%      1.333651e-06\n",
        "50%      6.085616e-05\n",
        "75%      3.985001e-01\n",
        "max      5.043617e+01\n",
        "dtype: float64"
       ]
      },
      {
       "output_type": "stream",
       "stream": "stdout",
       "text": [
        "\n",
        "0.333612123916\n",
        "52\n",
        "Sat Aug 30 00:12:45 2014\n",
        "200703\n",
        "05500\n"
       ]
      },
      {
       "ename": "KeyboardInterrupt",
       "evalue": "",
       "output_type": "pyerr",
       "traceback": [
        "\u001b[0;31m---------------------------------------------------------------------------\u001b[0m\n\u001b[0;31mKeyboardInterrupt\u001b[0m                         Traceback (most recent call last)",
        "\u001b[0;32m<ipython-input-8-055a6db0c932>\u001b[0m in \u001b[0;36m<module>\u001b[0;34m()\u001b[0m\n\u001b[0;32m----> 1\u001b[0;31m \u001b[0mget_ipython\u001b[0m\u001b[0;34m(\u001b[0m\u001b[0;34m)\u001b[0m\u001b[0;34m.\u001b[0m\u001b[0mmagic\u001b[0m\u001b[0;34m(\u001b[0m\u001b[0;34mu'time sp.synthesize_many(*tup)'\u001b[0m\u001b[0;34m)\u001b[0m\u001b[0;34m\u001b[0m\u001b[0m\n\u001b[0m",
        "\u001b[0;32m/Users/ffoti/anaconda/lib/python2.7/site-packages/IPython/core/interactiveshell.pyc\u001b[0m in \u001b[0;36mmagic\u001b[0;34m(self, arg_s)\u001b[0m\n\u001b[1;32m   2203\u001b[0m         \u001b[0mmagic_name\u001b[0m\u001b[0;34m,\u001b[0m \u001b[0m_\u001b[0m\u001b[0;34m,\u001b[0m \u001b[0mmagic_arg_s\u001b[0m \u001b[0;34m=\u001b[0m \u001b[0marg_s\u001b[0m\u001b[0;34m.\u001b[0m\u001b[0mpartition\u001b[0m\u001b[0;34m(\u001b[0m\u001b[0;34m' '\u001b[0m\u001b[0;34m)\u001b[0m\u001b[0;34m\u001b[0m\u001b[0m\n\u001b[1;32m   2204\u001b[0m         \u001b[0mmagic_name\u001b[0m \u001b[0;34m=\u001b[0m \u001b[0mmagic_name\u001b[0m\u001b[0;34m.\u001b[0m\u001b[0mlstrip\u001b[0m\u001b[0;34m(\u001b[0m\u001b[0mprefilter\u001b[0m\u001b[0;34m.\u001b[0m\u001b[0mESC_MAGIC\u001b[0m\u001b[0;34m)\u001b[0m\u001b[0;34m\u001b[0m\u001b[0m\n\u001b[0;32m-> 2205\u001b[0;31m         \u001b[0;32mreturn\u001b[0m \u001b[0mself\u001b[0m\u001b[0;34m.\u001b[0m\u001b[0mrun_line_magic\u001b[0m\u001b[0;34m(\u001b[0m\u001b[0mmagic_name\u001b[0m\u001b[0;34m,\u001b[0m \u001b[0mmagic_arg_s\u001b[0m\u001b[0;34m)\u001b[0m\u001b[0;34m\u001b[0m\u001b[0m\n\u001b[0m\u001b[1;32m   2206\u001b[0m \u001b[0;34m\u001b[0m\u001b[0m\n\u001b[1;32m   2207\u001b[0m     \u001b[0;31m#-------------------------------------------------------------------------\u001b[0m\u001b[0;34m\u001b[0m\u001b[0;34m\u001b[0m\u001b[0m\n",
        "\u001b[0;32m/Users/ffoti/anaconda/lib/python2.7/site-packages/IPython/core/interactiveshell.pyc\u001b[0m in \u001b[0;36mrun_line_magic\u001b[0;34m(self, magic_name, line)\u001b[0m\n\u001b[1;32m   2124\u001b[0m                 \u001b[0mkwargs\u001b[0m\u001b[0;34m[\u001b[0m\u001b[0;34m'local_ns'\u001b[0m\u001b[0;34m]\u001b[0m \u001b[0;34m=\u001b[0m \u001b[0msys\u001b[0m\u001b[0;34m.\u001b[0m\u001b[0m_getframe\u001b[0m\u001b[0;34m(\u001b[0m\u001b[0mstack_depth\u001b[0m\u001b[0;34m)\u001b[0m\u001b[0;34m.\u001b[0m\u001b[0mf_locals\u001b[0m\u001b[0;34m\u001b[0m\u001b[0m\n\u001b[1;32m   2125\u001b[0m             \u001b[0;32mwith\u001b[0m \u001b[0mself\u001b[0m\u001b[0;34m.\u001b[0m\u001b[0mbuiltin_trap\u001b[0m\u001b[0;34m:\u001b[0m\u001b[0;34m\u001b[0m\u001b[0m\n\u001b[0;32m-> 2126\u001b[0;31m                 \u001b[0mresult\u001b[0m \u001b[0;34m=\u001b[0m \u001b[0mfn\u001b[0m\u001b[0;34m(\u001b[0m\u001b[0;34m*\u001b[0m\u001b[0margs\u001b[0m\u001b[0;34m,\u001b[0m\u001b[0;34m**\u001b[0m\u001b[0mkwargs\u001b[0m\u001b[0;34m)\u001b[0m\u001b[0;34m\u001b[0m\u001b[0m\n\u001b[0m\u001b[1;32m   2127\u001b[0m             \u001b[0;32mreturn\u001b[0m \u001b[0mresult\u001b[0m\u001b[0;34m\u001b[0m\u001b[0m\n\u001b[1;32m   2128\u001b[0m \u001b[0;34m\u001b[0m\u001b[0m\n",
        "\u001b[0;32m/Users/ffoti/anaconda/lib/python2.7/site-packages/IPython/core/magics/execution.pyc\u001b[0m in \u001b[0;36mtime\u001b[0;34m(self, line, cell, local_ns)\u001b[0m\n",
        "\u001b[0;32m/Users/ffoti/anaconda/lib/python2.7/site-packages/IPython/core/magic.pyc\u001b[0m in \u001b[0;36m<lambda>\u001b[0;34m(f, *a, **k)\u001b[0m\n\u001b[1;32m    191\u001b[0m     \u001b[0;31m# but it's overkill for just that one bit of state.\u001b[0m\u001b[0;34m\u001b[0m\u001b[0;34m\u001b[0m\u001b[0m\n\u001b[1;32m    192\u001b[0m     \u001b[0;32mdef\u001b[0m \u001b[0mmagic_deco\u001b[0m\u001b[0;34m(\u001b[0m\u001b[0marg\u001b[0m\u001b[0;34m)\u001b[0m\u001b[0;34m:\u001b[0m\u001b[0;34m\u001b[0m\u001b[0m\n\u001b[0;32m--> 193\u001b[0;31m         \u001b[0mcall\u001b[0m \u001b[0;34m=\u001b[0m \u001b[0;32mlambda\u001b[0m \u001b[0mf\u001b[0m\u001b[0;34m,\u001b[0m \u001b[0;34m*\u001b[0m\u001b[0ma\u001b[0m\u001b[0;34m,\u001b[0m \u001b[0;34m**\u001b[0m\u001b[0mk\u001b[0m\u001b[0;34m:\u001b[0m \u001b[0mf\u001b[0m\u001b[0;34m(\u001b[0m\u001b[0;34m*\u001b[0m\u001b[0ma\u001b[0m\u001b[0;34m,\u001b[0m \u001b[0;34m**\u001b[0m\u001b[0mk\u001b[0m\u001b[0;34m)\u001b[0m\u001b[0;34m\u001b[0m\u001b[0m\n\u001b[0m\u001b[1;32m    194\u001b[0m \u001b[0;34m\u001b[0m\u001b[0m\n\u001b[1;32m    195\u001b[0m         \u001b[0;32mif\u001b[0m \u001b[0mcallable\u001b[0m\u001b[0;34m(\u001b[0m\u001b[0marg\u001b[0m\u001b[0;34m)\u001b[0m\u001b[0;34m:\u001b[0m\u001b[0;34m\u001b[0m\u001b[0m\n",
        "\u001b[0;32m/Users/ffoti/anaconda/lib/python2.7/site-packages/IPython/core/magics/execution.pyc\u001b[0m in \u001b[0;36mtime\u001b[0;34m(self, line, cell, local_ns)\u001b[0m\n\u001b[1;32m   1123\u001b[0m         \u001b[0;32mif\u001b[0m \u001b[0mmode\u001b[0m\u001b[0;34m==\u001b[0m\u001b[0;34m'eval'\u001b[0m\u001b[0;34m:\u001b[0m\u001b[0;34m\u001b[0m\u001b[0m\n\u001b[1;32m   1124\u001b[0m             \u001b[0mst\u001b[0m \u001b[0;34m=\u001b[0m \u001b[0mclock2\u001b[0m\u001b[0;34m(\u001b[0m\u001b[0;34m)\u001b[0m\u001b[0;34m\u001b[0m\u001b[0m\n\u001b[0;32m-> 1125\u001b[0;31m             \u001b[0mout\u001b[0m \u001b[0;34m=\u001b[0m \u001b[0meval\u001b[0m\u001b[0;34m(\u001b[0m\u001b[0mcode\u001b[0m\u001b[0;34m,\u001b[0m \u001b[0mglob\u001b[0m\u001b[0;34m,\u001b[0m \u001b[0mlocal_ns\u001b[0m\u001b[0;34m)\u001b[0m\u001b[0;34m\u001b[0m\u001b[0m\n\u001b[0m\u001b[1;32m   1126\u001b[0m             \u001b[0mend\u001b[0m \u001b[0;34m=\u001b[0m \u001b[0mclock2\u001b[0m\u001b[0;34m(\u001b[0m\u001b[0;34m)\u001b[0m\u001b[0;34m\u001b[0m\u001b[0m\n\u001b[1;32m   1127\u001b[0m         \u001b[0;32melse\u001b[0m\u001b[0;34m:\u001b[0m\u001b[0;34m\u001b[0m\u001b[0m\n",
        "\u001b[0;32m<timed eval>\u001b[0m in \u001b[0;36m<module>\u001b[0;34m()\u001b[0m\n",
        "\u001b[0;32m/Users/ffoti/src/popgen/popgen/synthesizer.py\u001b[0m in \u001b[0;36msynthesize_many\u001b[0;34m(self, h_marg_df, p_marg_df, h_jd_df, p_jd_df, p_pums_d, h_pums_d, p_cat_ids, h_cat_ids)\u001b[0m\n\u001b[1;32m     83\u001b[0m                             \u001b[0mp_jd_df\u001b[0m\u001b[0;34m.\u001b[0m\u001b[0mloc\u001b[0m\u001b[0;34m[\u001b[0m\u001b[0mpuma\u001b[0m\u001b[0;34m]\u001b[0m\u001b[0;34m,\u001b[0m\u001b[0;34m\u001b[0m\u001b[0m\n\u001b[1;32m     84\u001b[0m                             \u001b[0mh_pums\u001b[0m\u001b[0;34m,\u001b[0m \u001b[0mp_pums\u001b[0m\u001b[0;34m,\u001b[0m\u001b[0;34m\u001b[0m\u001b[0m\n\u001b[0;32m---> 85\u001b[0;31m                             h_cat_ids, p_cat_ids)\n\u001b[0m",
        "\u001b[0;32m/Users/ffoti/src/popgen/popgen/synthesizer.py\u001b[0m in \u001b[0;36msynthesize\u001b[0;34m(h_marg, p_marg, h_jd, p_jd, h_pums, p_pums, h_cat_ids, p_cat_ids)\u001b[0m\n\u001b[1;32m     50\u001b[0m                                                                \u001b[0mperson_freq\u001b[0m\u001b[0;34m,\u001b[0m\u001b[0;34m\u001b[0m\u001b[0m\n\u001b[1;32m     51\u001b[0m                                                                \u001b[0mh_constraint\u001b[0m\u001b[0;34m,\u001b[0m\u001b[0;34m\u001b[0m\u001b[0m\n\u001b[0;32m---> 52\u001b[0;31m                                                                p_constraint)\n\u001b[0m\u001b[1;32m     53\u001b[0m         \u001b[0;32mprint\u001b[0m \u001b[0mbest_weights\u001b[0m\u001b[0;34m.\u001b[0m\u001b[0mdescribe\u001b[0m\u001b[0;34m(\u001b[0m\u001b[0;34m)\u001b[0m\u001b[0;34m\u001b[0m\u001b[0m\n\u001b[1;32m     54\u001b[0m         \u001b[0;32mprint\u001b[0m \u001b[0mfit_qual\u001b[0m\u001b[0;34m\u001b[0m\u001b[0m\n",
        "\u001b[0;32m/Users/ffoti/src/popgen/popgen/ipu/ipu.pyc\u001b[0m in \u001b[0;36mhousehold_weights\u001b[0;34m(household_freq, person_freq, household_constraints, person_constraints, convergence)\u001b[0m\n\u001b[1;32m    204\u001b[0m                 col, weights[col.index], constraint)\n\u001b[1;32m    205\u001b[0m \u001b[0;34m\u001b[0m\u001b[0m\n\u001b[0;32m--> 206\u001b[0;31m         \u001b[0mnew_fit_qual\u001b[0m \u001b[0;34m=\u001b[0m \u001b[0m_average_fit_quality\u001b[0m\u001b[0;34m(\u001b[0m\u001b[0mfreq_wrap\u001b[0m\u001b[0;34m,\u001b[0m \u001b[0mweights\u001b[0m\u001b[0;34m)\u001b[0m\u001b[0;34m\u001b[0m\u001b[0m\n\u001b[0m\u001b[1;32m    207\u001b[0m         \u001b[0mfit_change\u001b[0m \u001b[0;34m=\u001b[0m \u001b[0mabs\u001b[0m\u001b[0;34m(\u001b[0m\u001b[0mnew_fit_qual\u001b[0m \u001b[0;34m-\u001b[0m \u001b[0mfit_qual\u001b[0m\u001b[0;34m)\u001b[0m\u001b[0;34m\u001b[0m\u001b[0m\n\u001b[1;32m    208\u001b[0m \u001b[0;34m\u001b[0m\u001b[0m\n",
        "\u001b[0;32m/Users/ffoti/src/popgen/popgen/ipu/ipu.pyc\u001b[0m in \u001b[0;36m_average_fit_quality\u001b[0;34m(freq_wrap, weights)\u001b[0m\n\u001b[1;32m    119\u001b[0m     return sum(\n\u001b[1;32m    120\u001b[0m         \u001b[0m_fit_quality\u001b[0m\u001b[0;34m(\u001b[0m\u001b[0mcol\u001b[0m\u001b[0;34m,\u001b[0m \u001b[0mweights\u001b[0m\u001b[0;34m[\u001b[0m\u001b[0mcol\u001b[0m\u001b[0;34m.\u001b[0m\u001b[0mindex\u001b[0m\u001b[0;34m]\u001b[0m\u001b[0;34m,\u001b[0m \u001b[0mconstraint\u001b[0m\u001b[0;34m)\u001b[0m\u001b[0;34m\u001b[0m\u001b[0m\n\u001b[0;32m--> 121\u001b[0;31m         \u001b[0;32mfor\u001b[0m \u001b[0mcol\u001b[0m\u001b[0;34m,\u001b[0m \u001b[0mconstraint\u001b[0m \u001b[0;32min\u001b[0m \u001b[0mfreq_wrap\u001b[0m\u001b[0;34m.\u001b[0m\u001b[0miter_columns\u001b[0m\u001b[0;34m(\u001b[0m\u001b[0;34m)\u001b[0m\u001b[0;34m\u001b[0m\u001b[0m\n\u001b[0m\u001b[1;32m    122\u001b[0m         ) / freq_wrap.ncols\n\u001b[1;32m    123\u001b[0m \u001b[0;34m\u001b[0m\u001b[0m\n",
        "\u001b[0;32m/Users/ffoti/src/popgen/popgen/ipu/ipu.pyc\u001b[0m in \u001b[0;36m<genexpr>\u001b[0;34m((col, constraint))\u001b[0m\n\u001b[1;32m    118\u001b[0m     \"\"\"\n\u001b[1;32m    119\u001b[0m     return sum(\n\u001b[0;32m--> 120\u001b[0;31m         \u001b[0m_fit_quality\u001b[0m\u001b[0;34m(\u001b[0m\u001b[0mcol\u001b[0m\u001b[0;34m,\u001b[0m \u001b[0mweights\u001b[0m\u001b[0;34m[\u001b[0m\u001b[0mcol\u001b[0m\u001b[0;34m.\u001b[0m\u001b[0mindex\u001b[0m\u001b[0;34m]\u001b[0m\u001b[0;34m,\u001b[0m \u001b[0mconstraint\u001b[0m\u001b[0;34m)\u001b[0m\u001b[0;34m\u001b[0m\u001b[0m\n\u001b[0m\u001b[1;32m    121\u001b[0m         \u001b[0;32mfor\u001b[0m \u001b[0mcol\u001b[0m\u001b[0;34m,\u001b[0m \u001b[0mconstraint\u001b[0m \u001b[0;32min\u001b[0m \u001b[0mfreq_wrap\u001b[0m\u001b[0;34m.\u001b[0m\u001b[0miter_columns\u001b[0m\u001b[0;34m(\u001b[0m\u001b[0;34m)\u001b[0m\u001b[0;34m\u001b[0m\u001b[0m\n\u001b[1;32m    122\u001b[0m         ) / freq_wrap.ncols\n",
        "\u001b[0;32m/Users/ffoti/src/popgen/popgen/ipu/ipu.pyc\u001b[0m in \u001b[0;36miter_columns\u001b[0;34m(self)\u001b[0m\n\u001b[1;32m     79\u001b[0m             yield (\n\u001b[1;32m     80\u001b[0m                 \u001b[0mself\u001b[0m\u001b[0;34m.\u001b[0m\u001b[0mhousehold_freq\u001b[0m\u001b[0;34m[\u001b[0m\u001b[0mcol_idx\u001b[0m\u001b[0;34m]\u001b[0m\u001b[0;34m,\u001b[0m\u001b[0;34m\u001b[0m\u001b[0m\n\u001b[0;32m---> 81\u001b[0;31m                 self.household_constraints[col_idx])\n\u001b[0m\u001b[1;32m     82\u001b[0m \u001b[0;34m\u001b[0m\u001b[0m\n\u001b[1;32m     83\u001b[0m         \u001b[0;32mfor\u001b[0m \u001b[0mcol_idx\u001b[0m \u001b[0;32min\u001b[0m \u001b[0mself\u001b[0m\u001b[0;34m.\u001b[0m\u001b[0mperson_freq\u001b[0m\u001b[0;34m:\u001b[0m\u001b[0;34m\u001b[0m\u001b[0m\n",
        "\u001b[0;32m/Users/ffoti/anaconda/lib/python2.7/site-packages/pandas/core/series.pyc\u001b[0m in \u001b[0;36m__getitem__\u001b[0;34m(self, key)\u001b[0m\n\u001b[1;32m    489\u001b[0m     \u001b[0;32mdef\u001b[0m \u001b[0m__getitem__\u001b[0m\u001b[0;34m(\u001b[0m\u001b[0mself\u001b[0m\u001b[0;34m,\u001b[0m \u001b[0mkey\u001b[0m\u001b[0;34m)\u001b[0m\u001b[0;34m:\u001b[0m\u001b[0;34m\u001b[0m\u001b[0m\n\u001b[1;32m    490\u001b[0m         \u001b[0;32mtry\u001b[0m\u001b[0;34m:\u001b[0m\u001b[0;34m\u001b[0m\u001b[0m\n\u001b[0;32m--> 491\u001b[0;31m             \u001b[0mresult\u001b[0m \u001b[0;34m=\u001b[0m \u001b[0mself\u001b[0m\u001b[0;34m.\u001b[0m\u001b[0mindex\u001b[0m\u001b[0;34m.\u001b[0m\u001b[0mget_value\u001b[0m\u001b[0;34m(\u001b[0m\u001b[0mself\u001b[0m\u001b[0;34m,\u001b[0m \u001b[0mkey\u001b[0m\u001b[0;34m)\u001b[0m\u001b[0;34m\u001b[0m\u001b[0m\n\u001b[0m\u001b[1;32m    492\u001b[0m             \u001b[0;32mif\u001b[0m \u001b[0misinstance\u001b[0m\u001b[0;34m(\u001b[0m\u001b[0mresult\u001b[0m\u001b[0;34m,\u001b[0m \u001b[0mnp\u001b[0m\u001b[0;34m.\u001b[0m\u001b[0mndarray\u001b[0m\u001b[0;34m)\u001b[0m\u001b[0;34m:\u001b[0m\u001b[0;34m\u001b[0m\u001b[0m\n\u001b[1;32m    493\u001b[0m                 \u001b[0;32mreturn\u001b[0m \u001b[0mself\u001b[0m\u001b[0;34m.\u001b[0m\u001b[0m_constructor\u001b[0m\u001b[0;34m(\u001b[0m\u001b[0mresult\u001b[0m\u001b[0;34m,\u001b[0m\u001b[0mindex\u001b[0m\u001b[0;34m=\u001b[0m\u001b[0;34m[\u001b[0m\u001b[0mkey\u001b[0m\u001b[0;34m]\u001b[0m\u001b[0;34m*\u001b[0m\u001b[0mlen\u001b[0m\u001b[0;34m(\u001b[0m\u001b[0mresult\u001b[0m\u001b[0;34m)\u001b[0m\u001b[0;34m)\u001b[0m\u001b[0;34m.\u001b[0m\u001b[0m__finalize__\u001b[0m\u001b[0;34m(\u001b[0m\u001b[0mself\u001b[0m\u001b[0;34m)\u001b[0m\u001b[0;34m\u001b[0m\u001b[0m\n",
        "\u001b[0;32m/Users/ffoti/anaconda/lib/python2.7/site-packages/pandas/core/index.pyc\u001b[0m in \u001b[0;36mget_value\u001b[0;34m(self, series, key)\u001b[0m\n\u001b[1;32m   1022\u001b[0m         \u001b[0mknow\u001b[0m \u001b[0mwhat\u001b[0m \u001b[0myou\u001b[0m\u001b[0;31m'\u001b[0m\u001b[0mre\u001b[0m \u001b[0mdoing\u001b[0m\u001b[0;34m\u001b[0m\u001b[0m\n\u001b[1;32m   1023\u001b[0m         \"\"\"\n\u001b[0;32m-> 1024\u001b[0;31m         \u001b[0ms\u001b[0m \u001b[0;34m=\u001b[0m \u001b[0m_values_from_object\u001b[0m\u001b[0;34m(\u001b[0m\u001b[0mseries\u001b[0m\u001b[0;34m)\u001b[0m\u001b[0;34m\u001b[0m\u001b[0m\n\u001b[0m\u001b[1;32m   1025\u001b[0m         \u001b[0mk\u001b[0m \u001b[0;34m=\u001b[0m \u001b[0m_values_from_object\u001b[0m\u001b[0;34m(\u001b[0m\u001b[0mkey\u001b[0m\u001b[0;34m)\u001b[0m\u001b[0;34m\u001b[0m\u001b[0m\n\u001b[1;32m   1026\u001b[0m \u001b[0;34m\u001b[0m\u001b[0m\n",
        "\u001b[0;32m/Users/ffoti/anaconda/lib/python2.7/site-packages/pandas/core/common.pyc\u001b[0m in \u001b[0;36m_values_from_object\u001b[0;34m(o)\u001b[0m\n\u001b[1;32m   1546\u001b[0m     \u001b[0mf\u001b[0m \u001b[0;34m=\u001b[0m \u001b[0mgetattr\u001b[0m\u001b[0;34m(\u001b[0m\u001b[0mo\u001b[0m\u001b[0;34m,\u001b[0m \u001b[0;34m'get_values'\u001b[0m\u001b[0;34m,\u001b[0m \u001b[0mNone\u001b[0m\u001b[0;34m)\u001b[0m\u001b[0;34m\u001b[0m\u001b[0m\n\u001b[1;32m   1547\u001b[0m     \u001b[0;32mif\u001b[0m \u001b[0mf\u001b[0m \u001b[0;32mis\u001b[0m \u001b[0;32mnot\u001b[0m \u001b[0mNone\u001b[0m\u001b[0;34m:\u001b[0m\u001b[0;34m\u001b[0m\u001b[0m\n\u001b[0;32m-> 1548\u001b[0;31m         \u001b[0mo\u001b[0m \u001b[0;34m=\u001b[0m \u001b[0mf\u001b[0m\u001b[0;34m(\u001b[0m\u001b[0;34m)\u001b[0m\u001b[0;34m\u001b[0m\u001b[0m\n\u001b[0m\u001b[1;32m   1549\u001b[0m     \u001b[0;32mreturn\u001b[0m \u001b[0mo\u001b[0m\u001b[0;34m\u001b[0m\u001b[0m\n\u001b[1;32m   1550\u001b[0m \u001b[0;34m\u001b[0m\u001b[0m\n",
        "\u001b[0;32m/Users/ffoti/anaconda/lib/python2.7/site-packages/pandas/core/series.pyc\u001b[0m in \u001b[0;36mget_values\u001b[0;34m(self)\u001b[0m\n\u001b[1;32m   1032\u001b[0m     \u001b[0;32mdef\u001b[0m \u001b[0mget_values\u001b[0m\u001b[0;34m(\u001b[0m\u001b[0mself\u001b[0m\u001b[0;34m)\u001b[0m\u001b[0;34m:\u001b[0m\u001b[0;34m\u001b[0m\u001b[0m\n\u001b[1;32m   1033\u001b[0m         \u001b[0;34m\"\"\" same as values (but handles sparseness conversions); is a view \"\"\"\u001b[0m\u001b[0;34m\u001b[0m\u001b[0m\n\u001b[0;32m-> 1034\u001b[0;31m         \u001b[0;32mreturn\u001b[0m \u001b[0mself\u001b[0m\u001b[0;34m.\u001b[0m\u001b[0m_data\u001b[0m\u001b[0;34m.\u001b[0m\u001b[0mvalues\u001b[0m\u001b[0;34m\u001b[0m\u001b[0m\n\u001b[0m\u001b[1;32m   1035\u001b[0m \u001b[0;34m\u001b[0m\u001b[0m\n\u001b[1;32m   1036\u001b[0m     \u001b[0;32mdef\u001b[0m \u001b[0mtolist\u001b[0m\u001b[0;34m(\u001b[0m\u001b[0mself\u001b[0m\u001b[0;34m)\u001b[0m\u001b[0;34m:\u001b[0m\u001b[0;34m\u001b[0m\u001b[0m\n",
        "\u001b[0;32m/Users/ffoti/anaconda/lib/python2.7/site-packages/pandas/core/internals.pyc\u001b[0m in \u001b[0;36mvalues\u001b[0;34m(self)\u001b[0m\n\u001b[1;32m   3702\u001b[0m     \u001b[0;34m@\u001b[0m\u001b[0mproperty\u001b[0m\u001b[0;34m\u001b[0m\u001b[0m\n\u001b[1;32m   3703\u001b[0m     \u001b[0;32mdef\u001b[0m \u001b[0mvalues\u001b[0m\u001b[0;34m(\u001b[0m\u001b[0mself\u001b[0m\u001b[0;34m)\u001b[0m\u001b[0;34m:\u001b[0m\u001b[0;34m\u001b[0m\u001b[0m\n\u001b[0;32m-> 3704\u001b[0;31m         \u001b[0;32mreturn\u001b[0m \u001b[0mself\u001b[0m\u001b[0;34m.\u001b[0m\u001b[0m_values\u001b[0m\u001b[0;34m.\u001b[0m\u001b[0mview\u001b[0m\u001b[0;34m(\u001b[0m\u001b[0;34m)\u001b[0m\u001b[0;34m\u001b[0m\u001b[0m\n\u001b[0m\u001b[1;32m   3705\u001b[0m \u001b[0;34m\u001b[0m\u001b[0m\n\u001b[1;32m   3706\u001b[0m     \u001b[0;34m@\u001b[0m\u001b[0mproperty\u001b[0m\u001b[0;34m\u001b[0m\u001b[0m\n",
        "\u001b[0;31mKeyboardInterrupt\u001b[0m: "
       ]
      }
     ],
     "prompt_number": 8
    },
    {
     "cell_type": "code",
     "collapsed": false,
     "input": [],
     "language": "python",
     "metadata": {},
     "outputs": []
    }
   ],
   "metadata": {}
  }
 ]
}