{
 "metadata": {
  "name": "",
  "signature": "sha256:586b98c2fc7380d32660f6c473ca941f12e24098bf557b68b8cf28544446b61a"
 },
 "nbformat": 3,
 "nbformat_minor": 0,
 "worksheets": [
  {
   "cells": [
    {
     "cell_type": "code",
     "collapsed": false,
     "input": [
      "from popgen.recipes.starter import marginals_and_joint_distributions\n",
      "from popgen.census_helpers import Census\n",
      "from popgen.synthesizer import PopSynth\n",
      "import os\n",
      "import time"
     ],
     "language": "python",
     "metadata": {},
     "outputs": [],
     "prompt_number": 3
    },
    {
     "cell_type": "code",
     "collapsed": false,
     "input": [
      "c = Census(os.environ[\"CENSUS\"])\n",
      "ps = PopSynth(c)"
     ],
     "language": "python",
     "metadata": {},
     "outputs": [],
     "prompt_number": 4
    },
    {
     "cell_type": "code",
     "collapsed": false,
     "input": [
      "print time.ctime()\n",
      "ps.synthesize(*marginals_and_joint_distributions(c, \"CA\", \"Napa County\"))\n",
      "print time.ctime()"
     ],
     "language": "python",
     "metadata": {},
     "outputs": [
      {
       "output_type": "stream",
       "stream": "stdout",
       "text": [
        "Fri Aug 29 00:10:26 2014\n",
        "106"
       ]
      },
      {
       "output_type": "stream",
       "stream": "stdout",
       "text": [
        "\n",
        "106"
       ]
      },
      {
       "output_type": "stream",
       "stream": "stdout",
       "text": [
        "\n",
        "Fri Aug 29 00:10:41 2014\n"
       ]
      }
     ],
     "prompt_number": 5
    },
    {
     "cell_type": "code",
     "collapsed": false,
     "input": [],
     "language": "python",
     "metadata": {},
     "outputs": []
    }
   ],
   "metadata": {}
  }
 ]
}