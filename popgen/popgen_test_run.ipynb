{
 "metadata": {
  "name": "",
  "signature": "sha256:d509950687f529b68dfe59f8530ff324949028399ce257b421d6530290a0c2f9"
 },
 "nbformat": 3,
 "nbformat_minor": 0,
 "worksheets": [
  {
   "cells": [
    {
     "cell_type": "code",
     "collapsed": false,
     "input": [
      "import pandas as pd\n",
      "import numpy as np\n",
      "import os\n",
      "import itertools\n",
      "from collections import OrderedDict\n",
      "from frequencytable import FrequencyTable\n",
      "import pseudo_sparse_matrix as ps\n",
      "import adjusting_sample_joint_distribution as adj\n",
      "import itertools\n",
      "from scipy import sparse\n",
      "from ipu import ipu"
     ],
     "language": "python",
     "metadata": {},
     "outputs": [],
     "prompt_number": 61
    },
    {
     "cell_type": "code",
     "collapsed": false,
     "input": [
      "data_dir = '/Users/conorhenley/Documents/Synthicity/Albuquerque/POPGEN_E'\n",
      "#code_dir = '/Users/conorhenley/Documents/Synthicity/popgen/PopGen_1_1_Linux'\n",
      "hh_sample_file = 'hhld_pums_500.csv'\n",
      "per_sample_file = 'pop_pums_500.csv'\n",
      "hh_marginals_file = 'hhld_marginals_500.csv'\n",
      "per_marginals_file = 'pop_marginals_500.csv'\n",
      "geocorr_file = 'Puma_Tract_Crosswalk_500.csv'"
     ],
     "language": "python",
     "metadata": {},
     "outputs": [],
     "prompt_number": 3
    },
    {
     "cell_type": "code",
     "collapsed": false,
     "input": [
      "# Parameters\n",
      "ipf_tolerance = 0.0001\n",
      "ipf_iterations = 25\n",
      "ipu_tolerance = 0.0000001\n",
      "ipu_iterations = 50\n",
      "synthetic_draw_tolerance = 0.9999\n",
      "synthetic_draw_iterations = 25\n",
      "rounding_procedure = \"arithmetic\""
     ],
     "language": "python",
     "metadata": {},
     "outputs": [],
     "prompt_number": 4
    },
    {
     "cell_type": "code",
     "collapsed": false,
     "input": [
      "os.chdir(data_dir)\n",
      "hh_sample = pd.read_csv(hh_sample_file, header = 0)\n",
      "hh_sample = hh_sample.astype('int')\n",
      "hh_vars = np.array((hh_sample.columns)[4:]) # identifies the household control variables\n",
      "hh_var_list = list(hh_sample.columns[4:])\n",
      "hh_dims = np.array((hh_sample.max())[4:]) # identifies number of categories per household control variable\n",
      "hh_var_dims = zip(hh_var_list, list(hh_dims))\n",
      "hhld_units = len(hh_sample.index)  # identifies the number of housing units to build the Master Matrix\n",
      "hh_sample['group_id'] = ''\n",
      "for var in hh_var_list:\n",
      "    hh_sample[var + '_str'] = hh_sample[var].astype('str')\n",
      "    hh_sample.group_id = hh_sample.group_id + hh_sample[var + '_str']\n",
      "    hh_sample = hh_sample.drop([var + '_str'], axis=1)\n",
      "vals = list(hh_dims)\n",
      "hhid_comb = []\n",
      "for item in itertools.product(*[range(1,x+1) for x in vals]):\n",
      "    hhid_comb.append(item)\n",
      "hhid_var = pd.DataFrame(data=hhid_comb, columns=hh_var_list)\n",
      "hhid_var['hhld_uniqueid'] = hhid_var.index + 1\n",
      "hhid_var['group_id'] = ''\n",
      "for val in hh_var_list:\n",
      "    hhid_var[val+'_str'] = hhid_var[val].astype('str')\n",
      "    hhid_var['group_id'] = hhid_var['group_id'] + hhid_var[val+'_str']\n",
      "    hhid_var = hhid_var.drop([val+'_str'], axis=1)\n",
      "hhid = hhid_var[['group_id','hhld_uniqueid']]\n",
      "agg = dict.fromkeys(hh_var_list,'min')\n",
      "#hhid_var = hh_sample.groupby(['group_id'], as_index=False).agg(agg)\n",
      "#hhid_var['hhld_uniqueid'] = hhid_var.index + 1\n",
      "#hhid = hhid_var[['group_id', 'hhld_uniqueid']]\n",
      "hh_sample = pd.merge(hh_sample, hhid, how='left', left_on='group_id', right_on='group_id')\n",
      "hh_marginals = pd.read_csv(hh_marginals_file, header = 0)\n",
      "\n",
      "per_sample = pd.read_csv(per_sample_file, header = 0)\n",
      "per_vars = list(per_sample.columns)[5:] # identifies the person control variables\n",
      "per_dims = np.array(per_sample.astype('int').max())[5:]\n",
      "per_sample['group_id'] = ''\n",
      "for var in per_vars:\n",
      "    per_sample[var + '_str'] = per_sample[var].astype('str')\n",
      "    per_sample.group_id = per_sample.group_id + per_sample[var + '_str']\n",
      "    per_sample = per_sample.drop([var + '_str'], axis=1)\n",
      "vals = list(per_dims)\n",
      "per_comb = []\n",
      "for item in itertools.product(*[range(1,x+1) for x in vals]):\n",
      "    per_comb.append(item)\n",
      "pid_var = pd.DataFrame(data=per_comb, columns=per_vars)\n",
      "pid_var['person_uniqueid'] = pid_var.index + 1\n",
      "pid_var['group_id'] = ''\n",
      "for val in per_vars:\n",
      "    pid_var[val+'_str'] = pid_var[val].astype('str')\n",
      "    pid_var['group_id'] = pid_var['group_id'] + pid_var[val+'_str']\n",
      "    pid_var = pid_var.drop([val+'_str'], axis=1)\n",
      "pid = pid_var[['group_id','person_uniqueid']]\n",
      "p_agg = dict.fromkeys(per_vars,'min')\n",
      "#pid_var = per_sample.groupby(['group_id'], as_index=False).agg(p_agg)\n",
      "#pid_var['person_uniqueid'] = pid_var.index + 1\n",
      "#pid = pid_var[['group_id', 'person_uniqueid']]\n",
      "per_sample = pd.merge(per_sample, pid, how='left', left_on='group_id', right_on='group_id')\n",
      "per_vars_dims = dict(zip(per_vars, per_dims))\n",
      "per_marginals = pd.read_csv(per_marginals_file, header = 0)"
     ],
     "language": "python",
     "metadata": {},
     "outputs": [],
     "prompt_number": 5
    },
    {
     "cell_type": "code",
     "collapsed": false,
     "input": [
      "hh_varcorrdict = {}\n",
      "for var in range(len(hh_var_list)):\n",
      "    for i in range(1,hh_dims[var]+1):\n",
      "        hh_varcorrdict[hh_var_list[var]+str(i)] = [hh_var_list[var], i]\n",
      "per_varcorrdict = {}\n",
      "for var in range(len(per_vars)):\n",
      "    for i in range(1,per_dims[var]+1):\n",
      "        per_varcorrdict[per_vars[var]+str(i)] = [per_vars[var], i]"
     ],
     "language": "python",
     "metadata": {},
     "outputs": [],
     "prompt_number": 6
    },
    {
     "cell_type": "code",
     "collapsed": false,
     "input": [
      "matrix = ps.populate_master_matrix(hh_dims, per_dims, hhld_units, hh_sample, per_sample)"
     ],
     "language": "python",
     "metadata": {},
     "outputs": [],
     "prompt_number": 7
    },
    {
     "cell_type": "code",
     "collapsed": false,
     "input": [
      "sparse_matrix = ps.pseudo_sparse_matrix(data_dir, hh_sample, hh_dims, per_sample)"
     ],
     "language": "python",
     "metadata": {},
     "outputs": [],
     "prompt_number": 8
    },
    {
     "cell_type": "code",
     "collapsed": false,
     "input": [
      "sparse_matrix1, index_matrix = ps.generate_index_matrix(sparse_matrix)"
     ],
     "language": "python",
     "metadata": {},
     "outputs": [],
     "prompt_number": 9
    },
    {
     "cell_type": "code",
     "collapsed": false,
     "input": [
      "hhld_0_jd = adj.hhld_0_joint_dist(hhid_var, hh_sample, hh_var_list)"
     ],
     "language": "python",
     "metadata": {},
     "outputs": [],
     "prompt_number": 10
    },
    {
     "cell_type": "code",
     "collapsed": false,
     "input": [
      "person_0_jd = adj.person_0_joint_dist(pid_var, per_sample, per_vars)"
     ],
     "language": "python",
     "metadata": {},
     "outputs": [],
     "prompt_number": 11
    },
    {
     "cell_type": "code",
     "collapsed": false,
     "input": [
      "person_jd = adj.create_joint_dist_person(500, pid_var, per_vars, per_sample)"
     ],
     "language": "python",
     "metadata": {},
     "outputs": [],
     "prompt_number": 12
    },
    {
     "cell_type": "code",
     "collapsed": false,
     "input": [
      "hhld_jd = adj.create_joint_dist_hhld(500, hhid_var, hh_var_list, hh_sample)"
     ],
     "language": "python",
     "metadata": {},
     "outputs": [],
     "prompt_number": 13
    },
    {
     "cell_type": "code",
     "collapsed": false,
     "input": [
      "person_frequencies = adj.adjust_person_frequencies(person_jd, person_0_jd, 35, 61, 971400, 0)"
     ],
     "language": "python",
     "metadata": {},
     "outputs": [],
     "prompt_number": 14
    },
    {
     "cell_type": "code",
     "collapsed": false,
     "input": [
      "hhld_frequencies = adj.adjust_hhld_frequencies(hhld_jd, hhld_0_jd, 35, 61, 971400, 0)"
     ],
     "language": "python",
     "metadata": {},
     "outputs": [],
     "prompt_number": 15
    },
    {
     "cell_type": "code",
     "collapsed": false,
     "input": [
      "hhld_joint_dist = adj.adjust_weights(hh_varcorrdict, hhld_frequencies, hh_marginals, ipf_tolerance, ipf_iterations, 35, 61, 971400, 0, 500)"
     ],
     "language": "python",
     "metadata": {},
     "outputs": [
      {
       "output_type": "stream",
       "stream": "stdout",
       "text": [
        "convergence achieved in 12 iterations\n"
       ]
      }
     ],
     "prompt_number": 16
    },
    {
     "cell_type": "code",
     "collapsed": false,
     "input": [
      "person_joint_dist = adj.adjust_weights(per_varcorrdict, person_frequencies, per_marginals, ipf_tolerance, ipf_iterations, 35, 61, 971400, 0, 500)"
     ],
     "language": "python",
     "metadata": {},
     "outputs": [
      {
       "output_type": "stream",
       "stream": "stdout",
       "text": [
        "convergence achieved in 8 iterations\n"
       ]
      }
     ],
     "prompt_number": 17
    },
    {
     "cell_type": "code",
     "collapsed": false,
     "input": [
      "household_cols = OrderedDict()\n",
      "for col in matrix.columns[4:hh_dims.prod()+4]:\n",
      "    household_cols[col-3] = matrix[col][matrix[col]>0]\n",
      "person_cols = OrderedDict()\n",
      "for col in matrix.columns[hh_dims.prod()+4:]:\n",
      "    person_cols[col-(hh_dims.prod()+3)] = matrix[col][matrix[col]>0]"
     ],
     "language": "python",
     "metadata": {},
     "outputs": [],
     "prompt_number": 69
    },
    {
     "cell_type": "code",
     "collapsed": false,
     "input": [
      "ft = FrequencyTable(index = matrix.index, household_cols=household_cols, person_cols=person_cols)"
     ],
     "language": "python",
     "metadata": {},
     "outputs": [],
     "prompt_number": 49
    },
    {
     "cell_type": "code",
     "collapsed": false,
     "input": [
      "constraints = OrderedDict()\n",
      "constraints['household'] = hhld_joint_dist.frequency.astype('int')\n",
      "constraints['household'].index = constraints['household'].index + 1\n",
      "constraints['person'] = person_joint_dist.frequency.astype('int')\n",
      "constraints['person'].index = constraints['person'].index + 1\n",
      "constraints['household'][constraints['household']==0] = 1"
     ],
     "language": "python",
     "metadata": {},
     "outputs": [],
     "prompt_number": 89
    },
    {
     "cell_type": "code",
     "collapsed": false,
     "input": [
      "ipu.household_weights(frequency_table=ft, constraints=constraints)"
     ],
     "language": "python",
     "metadata": {},
     "outputs": [
      {
       "metadata": {},
       "output_type": "pyout",
       "prompt_number": 91,
       "text": [
        "(0     0.286863\n",
        " 1     0.694036\n",
        " 2     2.993264\n",
        " 3     0.406845\n",
        " 4     0.172401\n",
        " 5     0.647281\n",
        " 6     0.211167\n",
        " 7     0.054963\n",
        " 8     0.592754\n",
        " 9     0.467080\n",
        " 10    0.355329\n",
        " 11    0.357059\n",
        " 12    0.386846\n",
        " 13    0.345002\n",
        " 14    0.619296\n",
        " ...\n",
        " 2390    0.722512\n",
        " 2391    0.823387\n",
        " 2392    0.133842\n",
        " 2393    0.536301\n",
        " 2394    0.429102\n",
        " 2395    2.993264\n",
        " 2396    0.453190\n",
        " 2397    0.038474\n",
        " 2398    0.056649\n",
        " 2399    0.077672\n",
        " 2400    0.643652\n",
        " 2401    0.199384\n",
        " 2402    0.277853\n",
        " 2403    0.357534\n",
        " 2404    0.337135\n",
        " Length: 2405, dtype: float64, nan, 1)"
       ]
      }
     ],
     "prompt_number": 91
    }
   ],
   "metadata": {}
  }
 ]
}